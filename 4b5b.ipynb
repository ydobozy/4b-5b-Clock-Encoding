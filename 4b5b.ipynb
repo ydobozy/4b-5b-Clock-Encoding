{
 "cells": [
  {
   "cell_type": "code",
   "execution_count": 29,
   "metadata": {},
   "outputs": [
    {
     "name": "stdout",
     "output_type": "stream",
     "text": [
      "111011101001001\n"
     ]
    }
   ],
   "source": [
    "def modulateInputs(num):\n",
    "    if len(str(num))% 4 != 0:\n",
    "        return \"Error: Input must be in 4 bit binary\" #check if entry multiple of 4\n",
    "    else:\n",
    "        try:\n",
    "            int(num, 2) # check if poss to convert input base 2 to decimal (1 operation only)\n",
    "        except:\n",
    "            return \"Error: Input must be in 4 bit binary\"\n",
    "            \n",
    "    map = {'0000': '11110', '0001': '01001', '0010': '10100', '0011': '10101',\n",
    "                          '0100': '01010', '0101': '01011', '0110': '01110', '0111': '01111',\n",
    "                          '1000': '10010', '1001': '10011', '1010': '10110', '1011': '10111',\n",
    "                          '1100': '11010', '1101': '11011', '1110': '11100', '1111': '11101'}\n",
    "    \n",
    "    n=4\n",
    "    fourbits=[num[i:i+n] for i in range(0, len(num), n)] # create list for each nibble\n",
    "    fivebits = []\n",
    "    for n in fourbits:\n",
    "        fivebits.append(map[n]) #append corresponding 5b value for each 4b\n",
    "    \n",
    "    return ''.join(fivebits) #create new 5b string\n",
    "    \n",
    "input = \"111111000001\"\n",
    "print(modulateInputs(input))"
   ]
  },
  {
   "cell_type": "code",
   "execution_count": null,
   "metadata": {},
   "outputs": [],
   "source": []
  },
  {
   "cell_type": "code",
   "execution_count": null,
   "metadata": {},
   "outputs": [],
   "source": []
  }
 ],
 "metadata": {
  "kernelspec": {
   "display_name": "Python 3",
   "language": "python",
   "name": "python3"
  },
  "language_info": {
   "codemirror_mode": {
    "name": "ipython",
    "version": 3
   },
   "file_extension": ".py",
   "mimetype": "text/x-python",
   "name": "python",
   "nbconvert_exporter": "python",
   "pygments_lexer": "ipython3",
   "version": "3.8.5"
  }
 },
 "nbformat": 4,
 "nbformat_minor": 4
}
