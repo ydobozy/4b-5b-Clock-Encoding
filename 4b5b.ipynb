{
 "cells": [
  {
   "cell_type": "code",
   "execution_count": null,
   "metadata": {},
   "outputs": [
    {
     "output_type": "error",
     "ename": "Error",
     "evalue": "IPyKernel not installed into interpreter Python 3.8.5 64-bit ('base': conda):C:\\Users\\ydobo\\anaconda3\\python.exe",
     "traceback": [
      "Error: IPyKernel not installed into interpreter Python 3.8.5 64-bit ('base': conda):C:\\Users\\ydobo\\anaconda3\\python.exe",
      "at v.installMissingDependencies (c:\\Users\\ydobo\\.vscode\\extensions\\ms-toolsai.jupyter-2021.6.832593372\\out\\client\\extension.js:90:244799)",
      "at processTicksAndRejections (internal/process/task_queues.js:93:5)"
     ]
    }
   ],
   "source": [
    "class BinaryInputs():\n",
    "    map4b5b = {'0000': '11110', '0001': '01001', '0010': '10100', '0011': '10101',\n",
    "                          '0100': '01010', '0101': '01011', '0110': '01110', '0111': '01111',\n",
    "                          '1000': '10010', '1001': '10011', '1010': '10110', '1011': '10111',\n",
    "                          '1100': '11010', '1101': '11011', '1110': '11100', '1111': '11101'}\n",
    "    \n",
    "    def __init__(self, code):\n",
    "        self.word = code\n",
    "        \n",
    "    @property\n",
    "    def word(self):\n",
    "        return self.__word\n",
    "    \n",
    "    @word.setter\n",
    "    def word(self, code):\n",
    "        try:\n",
    "            int(code, 2) # check if poss to convert input base 2 to decimal (1 operation only)\n",
    "            self.__word = code\n",
    "        except:\n",
    "            self.__word = None\n",
    "            \n",
    "    def modulateInputs(self):\n",
    "        if self.__word == None:\n",
    "            return \"Error: Input must be binary\" #return entry not created as not binary\n",
    "        elif len(str(self.__word))% 4 != 0:\n",
    "            return \"Error: Input must be in 4 bit binary\" #check if entry multiple of 4\n",
    "        else:\n",
    "            n=4\n",
    "            fourbits=[self.__word[i:i+n] for i in range(0, len(self.__word), n)] # create list for each nibble\n",
    "            fivebits = []\n",
    "            for n in fourbits:\n",
    "                fivebits.append(self.map4b5b[n]) #append corresponding 5b value for each 4b\n",

    "    \n",
    "            return \"Encoded word: \" + ''.join(fivebits) #create new 5b string\n",
    "    \n",

    "    def demodulateInputs(self):\n",
    "        if self.__word == None:\n",
    "            return \"Error: Input must be binary\" #return entry not created as not binary\n",
    "        elif len(str(self.__word))% 5 != 0:\n",
    "            return \"Error: Input must be encoded first\" #check if entry multiple of 5\n",
    "        else:\n",
    "            n=5\n",
    "            fivebits=[self.__word[i:i+n] for i in range(0, len(self.__word), n)] # create list for each 5 bits\n",
    "            fourbits = []\n",
    "            list_4b= list(self.map4b5b.keys()) # list of keys map4b5b (4b)\n",
    "            list_5b= list(self.map4b5b.values()) # list of values map4b5b (5b)\n",
    "            \n",
    "            for f in fivebits:\n",
    "                if f not in list_5b:\n",
    "                    return \"The encoded word provided has error(s)\" # check if encoded value correct\n",
    "                else:\n",
    "                    position = list_5b.index(f)\n",
    "                    fourbits.append(list_4b[position]) #append corresponding 4b key for each 5b value\n",

    "            return \"Decoded word: \" + ''.join(fourbits) #create new 4b string\n",

   ]
  },
  {
   "cell_type": "code",
   "execution_count": null,
   "metadata": {},
   "outputs": [],
   "source": [
    "inputuser = BinaryInputs(\"1110010001\")\n",
    "print(inputuser.demodulateInputs())"
   ]
  },
  {
   "cell_type": "code",
   "execution_count": null,
   "metadata": {},
   "outputs": [],
   "source": []
  }
 ],
 "metadata": {
  "kernelspec": {
   "display_name": "Python 3",
   "language": "python",
   "name": "python3"
  },
  "language_info": {
   "codemirror_mode": {
    "name": "ipython",
    "version": 3
   },
   "file_extension": ".py",
   "mimetype": "text/x-python",
   "name": "python",
   "nbconvert_exporter": "python",
   "pygments_lexer": "ipython3",
   "version": "3.8.5"
  }
 },
 "nbformat": 4,
 "nbformat_minor": 4
}